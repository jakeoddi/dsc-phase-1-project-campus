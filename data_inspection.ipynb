{
 "cells": [
  {
   "cell_type": "code",
   "execution_count": 206,
   "metadata": {},
   "outputs": [],
   "source": [
    "import pandas as pd\n",
    "import numpy as np\n",
    "import matplotlib.pyplot as plt\n",
    "%matplotlib inline\n",
    "import seaborn as sns\n",
    "sns.set_style('ticks')\n",
    "import json"
   ]
  },
  {
   "cell_type": "code",
   "execution_count": 1,
   "metadata": {},
   "outputs": [],
   "source": [
    "imdb_title_ratings = pd.read_csv('./zippedData/imdb.title.ratings.csv.gz') # merged with titlebasics\n",
    "imdb_title_basics = pd.read_csv('./zippedData/imdb.title.basics.csv.gz') # merged with titleratings\n",
    "# imdb_title_akas = pd.read_csv('./zippedData/imdb.title.akas.csv.gz')   -- not using\n",
    "\n",
    "bom_movie_gross = pd.read_csv('./zippedData/bom.movie_gross.csv.gz')\n",
    "\n",
    "imdb_title_crew = pd.read_csv('./zippedData/imdb.title.crew.csv.gz')\n",
    "imdb_name_basics = pd.read_csv('./zippedData/imdb.name.basics.csv.gz')\n",
    "imdb_title_principals = pd.read_csv('./zippedData/imdb.title.principals.csv.gz')\n",
    "\n",
    "rt_movie_info = pd.read_csv('./zippedData/rt.movie_info.tsv.gz', sep = '\\t')\n",
    "rt_reviews = pd.read_csv('./zippedData/rt.reviews.tsv.gz', sep = '\\t', encoding = 'latin1')\n",
    "tmdb_movies = pd.read_csv('./zippedData/tmdb.movies.csv.gz')\n",
    "tn_movie_budgets = pd.read_csv('./zippedData/tn.movie_budgets.csv.gz')"
   ]
  },
  {
   "cell_type": "code",
   "execution_count": 2,
   "metadata": {},
   "outputs": [],
   "source": [
    "pd.set_option('display.max_rows', 30)"
   ]
  },
  {
   "cell_type": "markdown",
   "metadata": {},
   "source": [
    "<h1> IMDB Merging, Cleaning, Inspection </h1>"
   ]
  },
  {
   "cell_type": "code",
   "execution_count": 3,
   "metadata": {},
   "outputs": [
    {
     "data": {
      "text/html": [
       "<div>\n",
       "<style scoped>\n",
       "    .dataframe tbody tr th:only-of-type {\n",
       "        vertical-align: middle;\n",
       "    }\n",
       "\n",
       "    .dataframe tbody tr th {\n",
       "        vertical-align: top;\n",
       "    }\n",
       "\n",
       "    .dataframe thead th {\n",
       "        text-align: right;\n",
       "    }\n",
       "</style>\n",
       "<table border=\"1\" class=\"dataframe\">\n",
       "  <thead>\n",
       "    <tr style=\"text-align: right;\">\n",
       "      <th></th>\n",
       "      <th>tconst</th>\n",
       "      <th>averagerating</th>\n",
       "      <th>numvotes</th>\n",
       "      <th>primary_title</th>\n",
       "      <th>original_title</th>\n",
       "      <th>start_year</th>\n",
       "      <th>runtime_minutes</th>\n",
       "      <th>genres</th>\n",
       "    </tr>\n",
       "  </thead>\n",
       "  <tbody>\n",
       "    <tr>\n",
       "      <th>0</th>\n",
       "      <td>tt10356526</td>\n",
       "      <td>8.3</td>\n",
       "      <td>31.0</td>\n",
       "      <td>Laiye Je Yaarian</td>\n",
       "      <td>Laiye Je Yaarian</td>\n",
       "      <td>2019</td>\n",
       "      <td>117.0</td>\n",
       "      <td>Romance</td>\n",
       "    </tr>\n",
       "    <tr>\n",
       "      <th>1</th>\n",
       "      <td>tt10384606</td>\n",
       "      <td>8.9</td>\n",
       "      <td>559.0</td>\n",
       "      <td>Borderless</td>\n",
       "      <td>Borderless</td>\n",
       "      <td>2019</td>\n",
       "      <td>87.0</td>\n",
       "      <td>Documentary</td>\n",
       "    </tr>\n",
       "    <tr>\n",
       "      <th>2</th>\n",
       "      <td>tt1042974</td>\n",
       "      <td>6.4</td>\n",
       "      <td>20.0</td>\n",
       "      <td>Just Inès</td>\n",
       "      <td>Just Inès</td>\n",
       "      <td>2010</td>\n",
       "      <td>90.0</td>\n",
       "      <td>Drama</td>\n",
       "    </tr>\n",
       "    <tr>\n",
       "      <th>3</th>\n",
       "      <td>tt1043726</td>\n",
       "      <td>4.2</td>\n",
       "      <td>50352.0</td>\n",
       "      <td>The Legend of Hercules</td>\n",
       "      <td>The Legend of Hercules</td>\n",
       "      <td>2014</td>\n",
       "      <td>99.0</td>\n",
       "      <td>Action,Adventure,Fantasy</td>\n",
       "    </tr>\n",
       "    <tr>\n",
       "      <th>4</th>\n",
       "      <td>tt1060240</td>\n",
       "      <td>6.5</td>\n",
       "      <td>21.0</td>\n",
       "      <td>Até Onde?</td>\n",
       "      <td>Até Onde?</td>\n",
       "      <td>2011</td>\n",
       "      <td>73.0</td>\n",
       "      <td>Mystery,Thriller</td>\n",
       "    </tr>\n",
       "  </tbody>\n",
       "</table>\n",
       "</div>"
      ],
      "text/plain": [
       "       tconst  averagerating  numvotes           primary_title  \\\n",
       "0  tt10356526            8.3      31.0        Laiye Je Yaarian   \n",
       "1  tt10384606            8.9     559.0              Borderless   \n",
       "2   tt1042974            6.4      20.0               Just Inès   \n",
       "3   tt1043726            4.2   50352.0  The Legend of Hercules   \n",
       "4   tt1060240            6.5      21.0               Até Onde?   \n",
       "\n",
       "           original_title  start_year  runtime_minutes  \\\n",
       "0        Laiye Je Yaarian        2019            117.0   \n",
       "1              Borderless        2019             87.0   \n",
       "2               Just Inès        2010             90.0   \n",
       "3  The Legend of Hercules        2014             99.0   \n",
       "4               Até Onde?        2011             73.0   \n",
       "\n",
       "                     genres  \n",
       "0                   Romance  \n",
       "1               Documentary  \n",
       "2                     Drama  \n",
       "3  Action,Adventure,Fantasy  \n",
       "4          Mystery,Thriller  "
      ]
     },
     "execution_count": 3,
     "metadata": {},
     "output_type": "execute_result"
    }
   ],
   "source": [
    "imdb_title = imdb_title_ratings.merge(right = imdb_title_basics, how = 'outer', on = 'tconst') \n",
    "imdb_title.head(5)\n",
    "# Merging title ratings and title basics"
   ]
  },
  {
   "cell_type": "code",
   "execution_count": 258,
   "metadata": {},
   "outputs": [],
   "source": [
    "# imdb_title = imdb_title.merge(right = imdb_title_akas, how = 'outer', left_on = 'tconst', right_on = 'title_id')\n",
    "# Merging merged(title & basics) with title akas which only contained regions"
   ]
  },
  {
   "cell_type": "code",
   "execution_count": 73,
   "metadata": {},
   "outputs": [
    {
     "data": {
      "text/plain": [
       "<matplotlib.axes._subplots.AxesSubplot at 0x1a32568160>"
      ]
     },
     "execution_count": 73,
     "metadata": {},
     "output_type": "execute_result"
    },
    {
     "data": {
      "image/png": "[encoded data removed]",
      "text/plain": [
       "<Figure size 432x288 with 1 Axes>"
      ]
     },
     "metadata": {
      "needs_background": "light"
     },
     "output_type": "display_data"
    }
   ],
   "source": [
    "# sns.scatterplot(imdb_title['runtime_minutes'], imdb_title['averagerating'])\n",
    "sns.barplot(imdb_title['start_year'], imdb_title['averagerating'])"
   ]
  },
  {
   "cell_type": "code",
   "execution_count": 4,
   "metadata": {},
   "outputs": [],
   "source": [
    "imdb_title_outliers_dropped = imdb_title.drop(imdb_title[imdb_title['runtime_minutes']>600].index) \n",
    "# removing outliers from 'runtime_minutes'"
   ]
  },
  {
   "cell_type": "code",
   "execution_count": 102,
   "metadata": {},
   "outputs": [
    {
     "data": {
      "text/plain": [
       "<matplotlib.axes._subplots.AxesSubplot at 0x1a56fb9da0>"
      ]
     },
     "execution_count": 102,
     "metadata": {},
     "output_type": "execute_result"
    },
    {
     "data": {
      "image/png": "[encoded data removed]",
      "text/plain": [
       "<Figure size 432x288 with 1 Axes>"
      ]
     },
     "metadata": {
      "needs_background": "light"
     },
     "output_type": "display_data"
    }
   ],
   "source": [
    "sns.scatterplot(imdb_title_outliers_dropped['runtime_minutes'], imdb_title_outliers_dropped['averagerating'])"
   ]
  },
  {
   "cell_type": "code",
   "execution_count": 51,
   "metadata": {},
   "outputs": [
    {
     "data": {
      "text/html": [
       "<div>\n",
       "<style scoped>\n",
       "    .dataframe tbody tr th:only-of-type {\n",
       "        vertical-align: middle;\n",
       "    }\n",
       "\n",
       "    .dataframe tbody tr th {\n",
       "        vertical-align: top;\n",
       "    }\n",
       "\n",
       "    .dataframe thead th {\n",
       "        text-align: right;\n",
       "    }\n",
       "</style>\n",
       "<table border=\"1\" class=\"dataframe\">\n",
       "  <thead>\n",
       "    <tr style=\"text-align: right;\">\n",
       "      <th></th>\n",
       "      <th>tconst</th>\n",
       "      <th>directors</th>\n",
       "      <th>writers</th>\n",
       "    </tr>\n",
       "  </thead>\n",
       "  <tbody>\n",
       "    <tr>\n",
       "      <th>0</th>\n",
       "      <td>tt0285252</td>\n",
       "      <td>nm0899854</td>\n",
       "      <td>nm0899854</td>\n",
       "    </tr>\n",
       "    <tr>\n",
       "      <th>1</th>\n",
       "      <td>tt0438973</td>\n",
       "      <td>NaN</td>\n",
       "      <td>nm0175726,nm1802864</td>\n",
       "    </tr>\n",
       "    <tr>\n",
       "      <th>2</th>\n",
       "      <td>tt0462036</td>\n",
       "      <td>nm1940585</td>\n",
       "      <td>nm1940585</td>\n",
       "    </tr>\n",
       "    <tr>\n",
       "      <th>3</th>\n",
       "      <td>tt0835418</td>\n",
       "      <td>nm0151540</td>\n",
       "      <td>nm0310087,nm0841532</td>\n",
       "    </tr>\n",
       "    <tr>\n",
       "      <th>4</th>\n",
       "      <td>tt0878654</td>\n",
       "      <td>nm0089502,nm2291498,nm2292011</td>\n",
       "      <td>nm0284943</td>\n",
       "    </tr>\n",
       "  </tbody>\n",
       "</table>\n",
       "</div>"
      ],
      "text/plain": [
       "      tconst                      directors              writers\n",
       "0  tt0285252                      nm0899854            nm0899854\n",
       "1  tt0438973                            NaN  nm0175726,nm1802864\n",
       "2  tt0462036                      nm1940585            nm1940585\n",
       "3  tt0835418                      nm0151540  nm0310087,nm0841532\n",
       "4  tt0878654  nm0089502,nm2291498,nm2292011            nm0284943"
      ]
     },
     "execution_count": 51,
     "metadata": {},
     "output_type": "execute_result"
    }
   ],
   "source": [
    "imdb_title_crew.head()"
   ]
  },
  {
   "cell_type": "code",
   "execution_count": 75,
   "metadata": {},
   "outputs": [
    {
     "data": {
      "text/html": [
       "<div>\n",
       "<style scoped>\n",
       "    .dataframe tbody tr th:only-of-type {\n",
       "        vertical-align: middle;\n",
       "    }\n",
       "\n",
       "    .dataframe tbody tr th {\n",
       "        vertical-align: top;\n",
       "    }\n",
       "\n",
       "    .dataframe thead th {\n",
       "        text-align: right;\n",
       "    }\n",
       "</style>\n",
       "<table border=\"1\" class=\"dataframe\">\n",
       "  <thead>\n",
       "    <tr style=\"text-align: right;\">\n",
       "      <th></th>\n",
       "      <th>nconst</th>\n",
       "      <th>primary_name</th>\n",
       "      <th>birth_year</th>\n",
       "      <th>death_year</th>\n",
       "      <th>primary_profession</th>\n",
       "      <th>known_for_titles</th>\n",
       "    </tr>\n",
       "  </thead>\n",
       "  <tbody>\n",
       "    <tr>\n",
       "      <th>0</th>\n",
       "      <td>nm0061671</td>\n",
       "      <td>Mary Ellen Bauder</td>\n",
       "      <td>NaN</td>\n",
       "      <td>NaN</td>\n",
       "      <td>miscellaneous,production_manager,producer</td>\n",
       "      <td>tt0837562,tt2398241,tt0844471,tt0118553</td>\n",
       "    </tr>\n",
       "    <tr>\n",
       "      <th>1</th>\n",
       "      <td>nm0061865</td>\n",
       "      <td>Joseph Bauer</td>\n",
       "      <td>NaN</td>\n",
       "      <td>NaN</td>\n",
       "      <td>composer,music_department,sound_department</td>\n",
       "      <td>tt0896534,tt6791238,tt0287072,tt1682940</td>\n",
       "    </tr>\n",
       "    <tr>\n",
       "      <th>2</th>\n",
       "      <td>nm0062070</td>\n",
       "      <td>Bruce Baum</td>\n",
       "      <td>NaN</td>\n",
       "      <td>NaN</td>\n",
       "      <td>miscellaneous,actor,writer</td>\n",
       "      <td>tt1470654,tt0363631,tt0104030,tt0102898</td>\n",
       "    </tr>\n",
       "    <tr>\n",
       "      <th>3</th>\n",
       "      <td>nm0062195</td>\n",
       "      <td>Axel Baumann</td>\n",
       "      <td>NaN</td>\n",
       "      <td>NaN</td>\n",
       "      <td>camera_department,cinematographer,art_department</td>\n",
       "      <td>tt0114371,tt2004304,tt1618448,tt1224387</td>\n",
       "    </tr>\n",
       "    <tr>\n",
       "      <th>4</th>\n",
       "      <td>nm0062798</td>\n",
       "      <td>Pete Baxter</td>\n",
       "      <td>NaN</td>\n",
       "      <td>NaN</td>\n",
       "      <td>production_designer,art_department,set_decorator</td>\n",
       "      <td>tt0452644,tt0452692,tt3458030,tt2178256</td>\n",
       "    </tr>\n",
       "  </tbody>\n",
       "</table>\n",
       "</div>"
      ],
      "text/plain": [
       "      nconst       primary_name  birth_year  death_year  \\\n",
       "0  nm0061671  Mary Ellen Bauder         NaN         NaN   \n",
       "1  nm0061865       Joseph Bauer         NaN         NaN   \n",
       "2  nm0062070         Bruce Baum         NaN         NaN   \n",
       "3  nm0062195       Axel Baumann         NaN         NaN   \n",
       "4  nm0062798        Pete Baxter         NaN         NaN   \n",
       "\n",
       "                                 primary_profession  \\\n",
       "0         miscellaneous,production_manager,producer   \n",
       "1        composer,music_department,sound_department   \n",
       "2                        miscellaneous,actor,writer   \n",
       "3  camera_department,cinematographer,art_department   \n",
       "4  production_designer,art_department,set_decorator   \n",
       "\n",
       "                          known_for_titles  \n",
       "0  tt0837562,tt2398241,tt0844471,tt0118553  \n",
       "1  tt0896534,tt6791238,tt0287072,tt1682940  \n",
       "2  tt1470654,tt0363631,tt0104030,tt0102898  \n",
       "3  tt0114371,tt2004304,tt1618448,tt1224387  \n",
       "4  tt0452644,tt0452692,tt3458030,tt2178256  "
      ]
     },
     "execution_count": 75,
     "metadata": {},
     "output_type": "execute_result"
    }
   ],
   "source": [
    "imdb_name_basics.head()\n",
    "# directors, producers, actors/actresses, composers"
   ]
  },
  {
   "cell_type": "code",
   "execution_count": 76,
   "metadata": {},
   "outputs": [],
   "source": [
    "# actors_df = imdb_name_basics['actor' in imdb_name_basics['primary_profession']]\n",
    "# actors_df.head()"
   ]
  },
  {
   "cell_type": "code",
   "execution_count": 82,
   "metadata": {},
   "outputs": [
    {
     "data": {
      "text/html": [
       "<div>\n",
       "<style scoped>\n",
       "    .dataframe tbody tr th:only-of-type {\n",
       "        vertical-align: middle;\n",
       "    }\n",
       "\n",
       "    .dataframe tbody tr th {\n",
       "        vertical-align: top;\n",
       "    }\n",
       "\n",
       "    .dataframe thead th {\n",
       "        text-align: right;\n",
       "    }\n",
       "</style>\n",
       "<table border=\"1\" class=\"dataframe\">\n",
       "  <thead>\n",
       "    <tr style=\"text-align: right;\">\n",
       "      <th></th>\n",
       "      <th>tconst</th>\n",
       "      <th>ordering</th>\n",
       "      <th>nconst</th>\n",
       "      <th>category</th>\n",
       "      <th>job</th>\n",
       "      <th>characters</th>\n",
       "    </tr>\n",
       "  </thead>\n",
       "  <tbody>\n",
       "    <tr>\n",
       "      <th>0</th>\n",
       "      <td>tt0111414</td>\n",
       "      <td>1</td>\n",
       "      <td>nm0246005</td>\n",
       "      <td>actor</td>\n",
       "      <td>NaN</td>\n",
       "      <td>[\"The Man\"]</td>\n",
       "    </tr>\n",
       "  </tbody>\n",
       "</table>\n",
       "</div>"
      ],
      "text/plain": [
       "      tconst  ordering     nconst category  job   characters\n",
       "0  tt0111414         1  nm0246005    actor  NaN  [\"The Man\"]"
      ]
     },
     "execution_count": 82,
     "metadata": {},
     "output_type": "execute_result"
    }
   ],
   "source": [
    "imdb_title_principals.head(1)"
   ]
  },
  {
   "cell_type": "code",
   "execution_count": 57,
   "metadata": {},
   "outputs": [],
   "source": [
    "# imdb_title_akas.drop(['types', 'attributes', 'language', 'is_original_title', 'ordering', 'title'], axis = 1, inplace = True)"
   ]
  },
  {
   "cell_type": "code",
   "execution_count": 5,
   "metadata": {},
   "outputs": [],
   "source": [
    "# imdb_title = imdb_title.merge(right = imdb_title_akas, how = 'outer', left_on = 'tconst', right_on = 'title_id')"
   ]
  },
  {
   "cell_type": "markdown",
   "metadata": {},
   "source": [
    "<h1> TN Movie Budgets Cleaning and Inspection </h1>"
   ]
  },
  {
   "cell_type": "code",
   "execution_count": 134,
   "metadata": {},
   "outputs": [
    {
     "data": {
      "text/html": [
       "<div>\n",
       "<style scoped>\n",
       "    .dataframe tbody tr th:only-of-type {\n",
       "        vertical-align: middle;\n",
       "    }\n",
       "\n",
       "    .dataframe tbody tr th {\n",
       "        vertical-align: top;\n",
       "    }\n",
       "\n",
       "    .dataframe thead th {\n",
       "        text-align: right;\n",
       "    }\n",
       "</style>\n",
       "<table border=\"1\" class=\"dataframe\">\n",
       "  <thead>\n",
       "    <tr style=\"text-align: right;\">\n",
       "      <th></th>\n",
       "      <th>id</th>\n",
       "      <th>release_date</th>\n",
       "      <th>movie</th>\n",
       "      <th>production_budget</th>\n",
       "      <th>domestic_gross</th>\n",
       "      <th>worldwide_gross</th>\n",
       "    </tr>\n",
       "  </thead>\n",
       "  <tbody>\n",
       "    <tr>\n",
       "      <th>0</th>\n",
       "      <td>1</td>\n",
       "      <td>Dec 18, 2009</td>\n",
       "      <td>Avatar</td>\n",
       "      <td>425000000</td>\n",
       "      <td>760507625</td>\n",
       "      <td>2776345279</td>\n",
       "    </tr>\n",
       "  </tbody>\n",
       "</table>\n",
       "</div>"
      ],
      "text/plain": [
       "   id  release_date   movie production_budget domestic_gross worldwide_gross\n",
       "0   1  Dec 18, 2009  Avatar         425000000      760507625      2776345279"
      ]
     },
     "execution_count": 134,
     "metadata": {},
     "output_type": "execute_result"
    }
   ],
   "source": [
    "tn_movie_budgets.head(1)"
   ]
  },
  {
   "cell_type": "code",
   "execution_count": 34,
   "metadata": {},
   "outputs": [],
   "source": [
    "\n",
    "# tn_movie_budgets['production_budget'] = tn_movie_budgets['production_budget'].map(lambda x: x.replace(',', ''))\n",
    "# tn_movie_budgets['production_budget'] = tn_movie_budgets['production_budget'].map(lambda x: x.replace('$', ''))\n",
    "\n",
    "for col in ['production_budget', 'domestic_gross', 'worldwide_gross']:\n",
    "    tn_movie_budgets[col] = tn_movie_budgets[col].str.replace(r'\\D', '')\n",
    "    tn_movie_budgets[col] = tn_movie_budgets[col].astype('int')"
   ]
  },
  {
   "cell_type": "code",
   "execution_count": 38,
   "metadata": {},
   "outputs": [
    {
     "data": {
      "text/plain": [
       "production_budget    0\n",
       "domestic_gross       0\n",
       "worldwide_gross      0\n",
       "dtype: int64"
      ]
     },
     "execution_count": 38,
     "metadata": {},
     "output_type": "execute_result"
    }
   ],
   "source": [
    "tn_movie_budgets[['production_budget', 'domestic_gross', 'worldwide_gross']].isna().sum()"
   ]
  },
  {
   "cell_type": "code",
   "execution_count": 37,
   "metadata": {},
   "outputs": [
    {
     "data": {
      "text/plain": [
       "<matplotlib.axes._subplots.AxesSubplot at 0x1a2952ba20>"
      ]
     },
     "execution_count": 37,
     "metadata": {},
     "output_type": "execute_result"
    },
    {
     "data": {
      "image/png": "[encoded data removed]",
      "text/plain": [
       "<Figure size 432x288 with 1 Axes>"
      ]
     },
     "metadata": {
      "needs_background": "light"
     },
     "output_type": "display_data"
    }
   ],
   "source": [
    "# sns.scatterplot(tn_movie_budgets['production_budget'], tn_movie_budgets['domestic_gross'])\n",
    "tn_movie_budgets.plot(x = 'production_budget', y = 'domestic_gross', kind = 'scatter')\n",
    "\n"
   ]
  },
  {
   "cell_type": "markdown",
   "metadata": {},
   "source": [
    "<h1> Rotten Tomatoes Cleaning and Inspection </h1>"
   ]
  },
  {
   "cell_type": "code",
   "execution_count": 51,
   "metadata": {},
   "outputs": [
    {
     "data": {
      "text/html": [
       "<div>\n",
       "<style scoped>\n",
       "    .dataframe tbody tr th:only-of-type {\n",
       "        vertical-align: middle;\n",
       "    }\n",
       "\n",
       "    .dataframe tbody tr th {\n",
       "        vertical-align: top;\n",
       "    }\n",
       "\n",
       "    .dataframe thead th {\n",
       "        text-align: right;\n",
       "    }\n",
       "</style>\n",
       "<table border=\"1\" class=\"dataframe\">\n",
       "  <thead>\n",
       "    <tr style=\"text-align: right;\">\n",
       "      <th></th>\n",
       "      <th>id</th>\n",
       "      <th>synopsis</th>\n",
       "      <th>rating</th>\n",
       "      <th>genre</th>\n",
       "      <th>director</th>\n",
       "      <th>writer</th>\n",
       "      <th>theater_date</th>\n",
       "      <th>dvd_date</th>\n",
       "      <th>currency</th>\n",
       "      <th>box_office</th>\n",
       "      <th>runtime</th>\n",
       "      <th>studio</th>\n",
       "    </tr>\n",
       "  </thead>\n",
       "  <tbody>\n",
       "    <tr>\n",
       "      <th>1</th>\n",
       "      <td>3</td>\n",
       "      <td>New York City, not-too-distant-future: Eric Pa...</td>\n",
       "      <td>R</td>\n",
       "      <td>Drama|Science Fiction and Fantasy</td>\n",
       "      <td>David Cronenberg</td>\n",
       "      <td>David Cronenberg|Don DeLillo</td>\n",
       "      <td>Aug 17, 2012</td>\n",
       "      <td>Jan 1, 2013</td>\n",
       "      <td></td>\n",
       "      <td>600000</td>\n",
       "      <td>108 minutes</td>\n",
       "      <td>Entertainment One</td>\n",
       "    </tr>\n",
       "    <tr>\n",
       "      <th>6</th>\n",
       "      <td>10</td>\n",
       "      <td>Some cast and crew from NBC's highly acclaimed...</td>\n",
       "      <td>PG-13</td>\n",
       "      <td>Comedy</td>\n",
       "      <td>Jake Kasdan</td>\n",
       "      <td>Mike White</td>\n",
       "      <td>Jan 11, 2002</td>\n",
       "      <td>Jun 18, 2002</td>\n",
       "      <td></td>\n",
       "      <td>41032915</td>\n",
       "      <td>82 minutes</td>\n",
       "      <td>Paramount Pictures</td>\n",
       "    </tr>\n",
       "    <tr>\n",
       "      <th>7</th>\n",
       "      <td>13</td>\n",
       "      <td>Stewart Kane, an Irishman living in the Austra...</td>\n",
       "      <td>R</td>\n",
       "      <td>Drama</td>\n",
       "      <td>Ray Lawrence</td>\n",
       "      <td>Raymond Carver|Beatrix Christian</td>\n",
       "      <td>Apr 27, 2006</td>\n",
       "      <td>Oct 2, 2007</td>\n",
       "      <td></td>\n",
       "      <td>224114</td>\n",
       "      <td>123 minutes</td>\n",
       "      <td>Sony Pictures Classics</td>\n",
       "    </tr>\n",
       "    <tr>\n",
       "      <th>8</th>\n",
       "      <td>14</td>\n",
       "      <td>\"Love Ranch\" is a bittersweet love story that ...</td>\n",
       "      <td>R</td>\n",
       "      <td>Drama</td>\n",
       "      <td>Taylor Hackford</td>\n",
       "      <td>Mark Jacobson</td>\n",
       "      <td>Jun 30, 2010</td>\n",
       "      <td>Nov 9, 2010</td>\n",
       "      <td></td>\n",
       "      <td>134904</td>\n",
       "      <td>117 minutes</td>\n",
       "      <td>NaN</td>\n",
       "    </tr>\n",
       "    <tr>\n",
       "      <th>15</th>\n",
       "      <td>22</td>\n",
       "      <td>Two-time Academy Award Winner Kevin Spacey giv...</td>\n",
       "      <td>R</td>\n",
       "      <td>Comedy|Drama|Mystery and Suspense</td>\n",
       "      <td>George Hickenlooper</td>\n",
       "      <td>Norman Snider</td>\n",
       "      <td>Dec 17, 2010</td>\n",
       "      <td>Apr 5, 2011</td>\n",
       "      <td></td>\n",
       "      <td>1039869</td>\n",
       "      <td>108 minutes</td>\n",
       "      <td>ATO Pictures</td>\n",
       "    </tr>\n",
       "  </tbody>\n",
       "</table>\n",
       "</div>"
      ],
      "text/plain": [
       "    id                                           synopsis rating  \\\n",
       "1    3  New York City, not-too-distant-future: Eric Pa...      R   \n",
       "6   10  Some cast and crew from NBC's highly acclaimed...  PG-13   \n",
       "7   13  Stewart Kane, an Irishman living in the Austra...      R   \n",
       "8   14  \"Love Ranch\" is a bittersweet love story that ...      R   \n",
       "15  22  Two-time Academy Award Winner Kevin Spacey giv...      R   \n",
       "\n",
       "                                genre             director  \\\n",
       "1   Drama|Science Fiction and Fantasy     David Cronenberg   \n",
       "6                              Comedy          Jake Kasdan   \n",
       "7                               Drama         Ray Lawrence   \n",
       "8                               Drama      Taylor Hackford   \n",
       "15  Comedy|Drama|Mystery and Suspense  George Hickenlooper   \n",
       "\n",
       "                              writer  theater_date      dvd_date currency  \\\n",
       "1       David Cronenberg|Don DeLillo  Aug 17, 2012   Jan 1, 2013            \n",
       "6                         Mike White  Jan 11, 2002  Jun 18, 2002            \n",
       "7   Raymond Carver|Beatrix Christian  Apr 27, 2006   Oct 2, 2007            \n",
       "8                      Mark Jacobson  Jun 30, 2010   Nov 9, 2010            \n",
       "15                     Norman Snider  Dec 17, 2010   Apr 5, 2011            \n",
       "\n",
       "    box_office      runtime                  studio  \n",
       "1       600000  108 minutes       Entertainment One  \n",
       "6     41032915   82 minutes      Paramount Pictures  \n",
       "7       224114  123 minutes  Sony Pictures Classics  \n",
       "8       134904  117 minutes                     NaN  \n",
       "15     1039869  108 minutes            ATO Pictures  "
      ]
     },
     "execution_count": 51,
     "metadata": {},
     "output_type": "execute_result"
    }
   ],
   "source": [
    "rt_movie_info.head(5)"
   ]
  },
  {
   "cell_type": "code",
   "execution_count": 27,
   "metadata": {},
   "outputs": [],
   "source": [
    "rt_movie_info.dropna(subset = ['box_office'], inplace = True)"
   ]
  },
  {
   "cell_type": "code",
   "execution_count": 30,
   "metadata": {},
   "outputs": [],
   "source": [
    "# If no new cols added(i.e. in a merge), replace loop with two lines, one lambda for replacing and second line as is\n",
    "\n",
    "for col in ['box_office']:\n",
    "    rt_movie_info[col] = rt_movie_info[col].str.replace(r'\\D', '')\n",
    "    rt_movie_info[col] = rt_movie_info[col].astype('int64')\n"
   ]
  },
  {
   "cell_type": "markdown",
   "metadata": {},
   "source": [
    "## Gathering top 50% \n",
    "<p> My goal is to select directors whose movies yield above-average returns at the box office, on average. First I find the mean box office. Then I group by directors and their mean box office, and I use sum() to get the total number of directors with above-average returns. This number is 84. I go on again to group the dataset by director and mean box office, though this time sorting values in ascending order, taking the top 84, and assigning the series to a variable top_84_directors. Finally, I employ a barplot to display the mean box office by director. </p>"
   ]
  },
  {
   "cell_type": "code",
   "execution_count": 63,
   "metadata": {},
   "outputs": [],
   "source": [
    "rt_mean_box_office = rt_movie_info['box_office'].mean() \n",
    "# Mean box office for RT dataset is $37,906,010"
   ]
  },
  {
   "cell_type": "code",
   "execution_count": 64,
   "metadata": {},
   "outputs": [
    {
     "data": {
      "text/plain": [
       "84"
      ]
     },
     "execution_count": 64,
     "metadata": {},
     "output_type": "execute_result"
    }
   ],
   "source": [
    "rt_gb_director = rt_movie_info.groupby(['director'])['box_office'].mean().sort_values()\n",
    "(rt_gb_director > rt_mean_box_office).sum()"
   ]
  },
  {
   "cell_type": "code",
   "execution_count": 65,
   "metadata": {},
   "outputs": [],
   "source": [
    "top_84_directors = rt_movie_info.groupby(['director'])['box_office'].mean().sort_values(ascending = False).head(84)"
   ]
  },
  {
   "cell_type": "code",
   "execution_count": 66,
   "metadata": {},
   "outputs": [
    {
     "data": {
      "text/plain": [
       "director\n",
       "Mel Gibson                       368000000.0\n",
       "Peter Jackson                    303001229.0\n",
       "Chris Columbus                   261835892.0\n",
       "Joel Zwick                       241250669.0\n",
       "Peter Berg                       227946274.0\n",
       "                                    ...     \n",
       "Tim McCanlies                     41407470.0\n",
       "Jake Kasdan                       41032915.0\n",
       "Jonathan Liebesman                39418953.0\n",
       "Jason Friedberg|Aaron Seltzer     38200000.0\n",
       "Ron Clements|John Musker          38120554.0\n",
       "Name: box_office, Length: 84, dtype: float64"
      ]
     },
     "execution_count": 66,
     "metadata": {},
     "output_type": "execute_result"
    }
   ],
   "source": [
    "top_84_directors"
   ]
  },
  {
   "cell_type": "code",
   "execution_count": 67,
   "metadata": {},
   "outputs": [
    {
     "data": {
      "text/plain": [
       "<matplotlib.axes._subplots.AxesSubplot at 0x1a39b7b978>"
      ]
     },
     "execution_count": 67,
     "metadata": {},
     "output_type": "execute_result"
    },
    {
     "data": {
      "image/png": "[encoded data removed]",
      "text/plain": [
       "<Figure size 432x288 with 1 Axes>"
      ]
     },
     "metadata": {
      "needs_background": "light"
     },
     "output_type": "display_data"
    }
   ],
   "source": [
    "sns.barplot(top_84_directors.index, top_84_directors.values)"
   ]
  },
  {
   "cell_type": "markdown",
   "metadata": {},
   "source": [
    "<h1> Next </h1>"
   ]
  },
  {
   "cell_type": "code",
   "execution_count": 95,
   "metadata": {},
   "outputs": [
    {
     "data": {
      "text/html": [
       "<div>\n",
       "<style scoped>\n",
       "    .dataframe tbody tr th:only-of-type {\n",
       "        vertical-align: middle;\n",
       "    }\n",
       "\n",
       "    .dataframe tbody tr th {\n",
       "        vertical-align: top;\n",
       "    }\n",
       "\n",
       "    .dataframe thead th {\n",
       "        text-align: right;\n",
       "    }\n",
       "</style>\n",
       "<table border=\"1\" class=\"dataframe\">\n",
       "  <thead>\n",
       "    <tr style=\"text-align: right;\">\n",
       "      <th></th>\n",
       "      <th>Unnamed: 0</th>\n",
       "      <th>genre_ids</th>\n",
       "      <th>id</th>\n",
       "      <th>original_language</th>\n",
       "      <th>original_title</th>\n",
       "      <th>popularity</th>\n",
       "      <th>release_date</th>\n",
       "      <th>title</th>\n",
       "      <th>vote_average</th>\n",
       "      <th>vote_count</th>\n",
       "    </tr>\n",
       "  </thead>\n",
       "  <tbody>\n",
       "    <tr>\n",
       "      <th>0</th>\n",
       "      <td>0</td>\n",
       "      <td>[12, 14, 10751]</td>\n",
       "      <td>12444</td>\n",
       "      <td>en</td>\n",
       "      <td>Harry Potter and the Deathly Hallows: Part 1</td>\n",
       "      <td>33.533</td>\n",
       "      <td>2010-11-19</td>\n",
       "      <td>Harry Potter and the Deathly Hallows: Part 1</td>\n",
       "      <td>7.7</td>\n",
       "      <td>10788</td>\n",
       "    </tr>\n",
       "  </tbody>\n",
       "</table>\n",
       "</div>"
      ],
      "text/plain": [
       "   Unnamed: 0        genre_ids     id original_language  \\\n",
       "0           0  [12, 14, 10751]  12444                en   \n",
       "\n",
       "                                 original_title  popularity release_date  \\\n",
       "0  Harry Potter and the Deathly Hallows: Part 1      33.533   2010-11-19   \n",
       "\n",
       "                                          title  vote_average  vote_count  \n",
       "0  Harry Potter and the Deathly Hallows: Part 1           7.7       10788  "
      ]
     },
     "execution_count": 95,
     "metadata": {},
     "output_type": "execute_result"
    }
   ],
   "source": [
    "tmdb_movies.head(1)"
   ]
  },
  {
   "cell_type": "markdown",
   "metadata": {},
   "source": [
    "<h1> Kaggle </h1>"
   ]
  },
  {
   "cell_type": "code",
   "execution_count": 262,
   "metadata": {},
   "outputs": [],
   "source": [
    "kaggle_plot_keywords = pd.read_csv('./kaggleData/keywords.csv.zip')"
   ]
  },
  {
   "cell_type": "code",
   "execution_count": 263,
   "metadata": {},
   "outputs": [],
   "source": [
    "kaggle_movies = pd.read_csv('./kaggleData/movie_production.csv', encoding = 'latin1')"
   ]
  },
  {
   "cell_type": "markdown",
   "metadata": {},
   "source": [
    "<h3> Plot Keywords Exploration </h3>"
   ]
  },
  {
   "cell_type": "code",
   "execution_count": 264,
   "metadata": {},
   "outputs": [],
   "source": [
    "import re"
   ]
  },
  {
   "cell_type": "code",
   "execution_count": 265,
   "metadata": {},
   "outputs": [],
   "source": [
    "# kaggle_plot_keywords.drop([119, 120], inplace = True)"
   ]
  },
  {
   "cell_type": "code",
   "execution_count": 266,
   "metadata": {},
   "outputs": [],
   "source": [
    "\n",
    "\n",
    "kaggle_plot_keywords['keywords'] = kaggle_plot_keywords['keywords'].map(lambda x: '' if len(x) < 4 else x)\n",
    "kaggle_plot_keywords = kaggle_plot_keywords.drop(kaggle_plot_keywords[kaggle_plot_keywords['keywords'] == ''].index)\n",
    "                                         \n"
   ]
  },
  {
   "cell_type": "code",
   "execution_count": 287,
   "metadata": {},
   "outputs": [
    {
     "data": {
      "text/html": [
       "<div>\n",
       "<style scoped>\n",
       "    .dataframe tbody tr th:only-of-type {\n",
       "        vertical-align: middle;\n",
       "    }\n",
       "\n",
       "    .dataframe tbody tr th {\n",
       "        vertical-align: top;\n",
       "    }\n",
       "\n",
       "    .dataframe thead th {\n",
       "        text-align: right;\n",
       "    }\n",
       "</style>\n",
       "<table border=\"1\" class=\"dataframe\">\n",
       "  <thead>\n",
       "    <tr style=\"text-align: right;\">\n",
       "      <th></th>\n",
       "      <th>id</th>\n",
       "      <th>keywords</th>\n",
       "    </tr>\n",
       "  </thead>\n",
       "  <tbody>\n",
       "    <tr>\n",
       "      <th>0</th>\n",
       "      <td>862</td>\n",
       "      <td>[{'id': 931, 'name': 'jealousy'}, {'id': 4290,...</td>\n",
       "    </tr>\n",
       "    <tr>\n",
       "      <th>1</th>\n",
       "      <td>8844</td>\n",
       "      <td>[{'id': 10090, 'name': 'board game'}, {'id': 1...</td>\n",
       "    </tr>\n",
       "    <tr>\n",
       "      <th>2</th>\n",
       "      <td>15602</td>\n",
       "      <td>[{'id': 1495, 'name': 'fishing'}, {'id': 12392...</td>\n",
       "    </tr>\n",
       "    <tr>\n",
       "      <th>3</th>\n",
       "      <td>31357</td>\n",
       "      <td>[{'id': 818, 'name': 'based on novel'}, {'id':...</td>\n",
       "    </tr>\n",
       "    <tr>\n",
       "      <th>4</th>\n",
       "      <td>11862</td>\n",
       "      <td>[{'id': 1009, 'name': 'baby'}, {'id': 1599, 'n...</td>\n",
       "    </tr>\n",
       "    <tr>\n",
       "      <th>...</th>\n",
       "      <td>...</td>\n",
       "      <td>...</td>\n",
       "    </tr>\n",
       "    <tr>\n",
       "      <th>46409</th>\n",
       "      <td>84419</td>\n",
       "      <td>[{'id': 9748, 'name': 'revenge'}, {'id': 9826,...</td>\n",
       "    </tr>\n",
       "    <tr>\n",
       "      <th>46410</th>\n",
       "      <td>390959</td>\n",
       "      <td>[{'id': 224180, 'name': 'blair witch'}]</td>\n",
       "    </tr>\n",
       "    <tr>\n",
       "      <th>46411</th>\n",
       "      <td>289923</td>\n",
       "      <td>[{'id': 616, 'name': 'witch'}, {'id': 2035, 'n...</td>\n",
       "    </tr>\n",
       "    <tr>\n",
       "      <th>46414</th>\n",
       "      <td>439050</td>\n",
       "      <td>[{'id': 10703, 'name': 'tragic love'}]</td>\n",
       "    </tr>\n",
       "    <tr>\n",
       "      <th>46415</th>\n",
       "      <td>111109</td>\n",
       "      <td>[{'id': 2679, 'name': 'artist'}, {'id': 14531,...</td>\n",
       "    </tr>\n",
       "  </tbody>\n",
       "</table>\n",
       "<p>31624 rows × 2 columns</p>\n",
       "</div>"
      ],
      "text/plain": [
       "           id                                           keywords\n",
       "0         862  [{'id': 931, 'name': 'jealousy'}, {'id': 4290,...\n",
       "1        8844  [{'id': 10090, 'name': 'board game'}, {'id': 1...\n",
       "2       15602  [{'id': 1495, 'name': 'fishing'}, {'id': 12392...\n",
       "3       31357  [{'id': 818, 'name': 'based on novel'}, {'id':...\n",
       "4       11862  [{'id': 1009, 'name': 'baby'}, {'id': 1599, 'n...\n",
       "...       ...                                                ...\n",
       "46409   84419  [{'id': 9748, 'name': 'revenge'}, {'id': 9826,...\n",
       "46410  390959            [{'id': 224180, 'name': 'blair witch'}]\n",
       "46411  289923  [{'id': 616, 'name': 'witch'}, {'id': 2035, 'n...\n",
       "46414  439050             [{'id': 10703, 'name': 'tragic love'}]\n",
       "46415  111109  [{'id': 2679, 'name': 'artist'}, {'id': 14531,...\n",
       "\n",
       "[31624 rows x 2 columns]"
      ]
     },
     "execution_count": 287,
     "metadata": {},
     "output_type": "execute_result"
    }
   ],
   "source": [
    "kaggle_plot_keywords\n"
   ]
  },
  {
   "cell_type": "code",
   "execution_count": 288,
   "metadata": {},
   "outputs": [
    {
     "data": {
      "text/plain": [
       "[{'id': 931, 'name': 'jealousy'},\n",
       " {'id': 4290, 'name': 'toy'},\n",
       " {'id': 5202, 'name': 'boy'},\n",
       " {'id': 6054, 'name': 'friendship'},\n",
       " {'id': 9713, 'name': 'friends'},\n",
       " {'id': 9823, 'name': 'rivalry'},\n",
       " {'id': 165503, 'name': 'boy next door'},\n",
       " {'id': 170722, 'name': 'new toy'},\n",
       " {'id': 187065, 'name': 'toy comes to life'}]"
      ]
     },
     "execution_count": 288,
     "metadata": {},
     "output_type": "execute_result"
    }
   ],
   "source": [
    "entry1 = kaggle_plot_keywords.loc[0, 'keywords']\n",
    "p = re.compile('(?<!\\\\\\\\)\\'')\n",
    "entry1 = p.sub('\\\"', entry1)\n",
    "entry1 = json.loads(entry1)\n",
    "entry1"
   ]
  },
  {
   "cell_type": "code",
   "execution_count": 289,
   "metadata": {},
   "outputs": [],
   "source": [
    "def kaggle_plot_keywords_json_to_list(dataframe, keywords_column): \n",
    "\n",
    "    keywords_list = []\n",
    "    \n",
    "    p = re.compile('(?<!\\\\\\\\)\\'')\n",
    "    \n",
    "    for i in range(len(dataframe[keywords_column].head(1))):\n",
    "        entry = dataframe.loc[i, keywords_column]\n",
    "        entry = p.sub('\\\"', entry)\n",
    "        entry = json.loads(entry)\n",
    "        \n",
    "        for dict_item in entry:\n",
    "            keywords_list.append(dict_item['name'])\n",
    "        \n",
    "        dataframe.loc[i, keywords_column] = keywords_list\n",
    "        \n",
    "    return \n",
    "    "
   ]
  },
  {
   "cell_type": "code",
   "execution_count": 290,
   "metadata": {},
   "outputs": [
    {
     "data": {
      "text/plain": [
       "['jealousy',\n",
       " 'toy',\n",
       " 'boy',\n",
       " 'friendship',\n",
       " 'friends',\n",
       " 'rivalry',\n",
       " 'boy next door',\n",
       " 'new toy',\n",
       " 'toy comes to life']"
      ]
     },
     "execution_count": 290,
     "metadata": {},
     "output_type": "execute_result"
    }
   ],
   "source": [
    "kaggle_plot_keywords_json_to_list(kaggle_plot_keywords, 'keywords')\n",
    "# returns json error"
   ]
  },
  {
   "cell_type": "markdown",
   "metadata": {},
   "source": [
    "<h3> Movie Prod and Directors </h3>"
   ]
  },
  {
   "cell_type": "code",
   "execution_count": 125,
   "metadata": {},
   "outputs": [
    {
     "data": {
      "text/html": [
       "<div>\n",
       "<style scoped>\n",
       "    .dataframe tbody tr th:only-of-type {\n",
       "        vertical-align: middle;\n",
       "    }\n",
       "\n",
       "    .dataframe tbody tr th {\n",
       "        vertical-align: top;\n",
       "    }\n",
       "\n",
       "    .dataframe thead th {\n",
       "        text-align: right;\n",
       "    }\n",
       "</style>\n",
       "<table border=\"1\" class=\"dataframe\">\n",
       "  <thead>\n",
       "    <tr style=\"text-align: right;\">\n",
       "      <th></th>\n",
       "      <th>budget</th>\n",
       "      <th>company</th>\n",
       "      <th>country</th>\n",
       "      <th>director</th>\n",
       "      <th>genre</th>\n",
       "      <th>gross</th>\n",
       "      <th>name</th>\n",
       "      <th>rating</th>\n",
       "      <th>released</th>\n",
       "      <th>runtime</th>\n",
       "      <th>score</th>\n",
       "      <th>star</th>\n",
       "      <th>votes</th>\n",
       "      <th>writer</th>\n",
       "      <th>year</th>\n",
       "      <th>profit</th>\n",
       "      <th>gross_margin</th>\n",
       "    </tr>\n",
       "  </thead>\n",
       "  <tbody>\n",
       "    <tr>\n",
       "      <th>0</th>\n",
       "      <td>8000000.0</td>\n",
       "      <td>Columbia Pictures Corporation</td>\n",
       "      <td>USA</td>\n",
       "      <td>Rob Reiner</td>\n",
       "      <td>Adventure</td>\n",
       "      <td>52287414.0</td>\n",
       "      <td>Stand by Me</td>\n",
       "      <td>R</td>\n",
       "      <td>1986-08-22</td>\n",
       "      <td>89</td>\n",
       "      <td>8.1</td>\n",
       "      <td>Wil Wheaton</td>\n",
       "      <td>299174</td>\n",
       "      <td>Stephen King</td>\n",
       "      <td>1986</td>\n",
       "      <td>44287414.0</td>\n",
       "      <td>0.847000</td>\n",
       "    </tr>\n",
       "    <tr>\n",
       "      <th>1</th>\n",
       "      <td>6000000.0</td>\n",
       "      <td>Paramount Pictures</td>\n",
       "      <td>USA</td>\n",
       "      <td>John Hughes</td>\n",
       "      <td>Comedy</td>\n",
       "      <td>70136369.0</td>\n",
       "      <td>Ferris Bueller's Day Off</td>\n",
       "      <td>PG-13</td>\n",
       "      <td>1986-06-11</td>\n",
       "      <td>103</td>\n",
       "      <td>7.8</td>\n",
       "      <td>Matthew Broderick</td>\n",
       "      <td>264740</td>\n",
       "      <td>John Hughes</td>\n",
       "      <td>1986</td>\n",
       "      <td>64136369.0</td>\n",
       "      <td>0.914452</td>\n",
       "    </tr>\n",
       "    <tr>\n",
       "      <th>2</th>\n",
       "      <td>15000000.0</td>\n",
       "      <td>Paramount Pictures</td>\n",
       "      <td>USA</td>\n",
       "      <td>Tony Scott</td>\n",
       "      <td>Action</td>\n",
       "      <td>179800601.0</td>\n",
       "      <td>Top Gun</td>\n",
       "      <td>PG</td>\n",
       "      <td>1986-05-16</td>\n",
       "      <td>110</td>\n",
       "      <td>6.9</td>\n",
       "      <td>Tom Cruise</td>\n",
       "      <td>236909</td>\n",
       "      <td>Jim Cash</td>\n",
       "      <td>1986</td>\n",
       "      <td>164800601.0</td>\n",
       "      <td>0.916574</td>\n",
       "    </tr>\n",
       "    <tr>\n",
       "      <th>3</th>\n",
       "      <td>18500000.0</td>\n",
       "      <td>Twentieth Century Fox Film Corporation</td>\n",
       "      <td>USA</td>\n",
       "      <td>James Cameron</td>\n",
       "      <td>Action</td>\n",
       "      <td>85160248.0</td>\n",
       "      <td>Aliens</td>\n",
       "      <td>R</td>\n",
       "      <td>1986-07-18</td>\n",
       "      <td>137</td>\n",
       "      <td>8.4</td>\n",
       "      <td>Sigourney Weaver</td>\n",
       "      <td>540152</td>\n",
       "      <td>James Cameron</td>\n",
       "      <td>1986</td>\n",
       "      <td>66660248.0</td>\n",
       "      <td>0.782762</td>\n",
       "    </tr>\n",
       "    <tr>\n",
       "      <th>4</th>\n",
       "      <td>9000000.0</td>\n",
       "      <td>Walt Disney Pictures</td>\n",
       "      <td>USA</td>\n",
       "      <td>Randal Kleiser</td>\n",
       "      <td>Adventure</td>\n",
       "      <td>18564613.0</td>\n",
       "      <td>Flight of the Navigator</td>\n",
       "      <td>PG</td>\n",
       "      <td>1986-08-01</td>\n",
       "      <td>90</td>\n",
       "      <td>6.9</td>\n",
       "      <td>Joey Cramer</td>\n",
       "      <td>36636</td>\n",
       "      <td>Mark H. Baker</td>\n",
       "      <td>1986</td>\n",
       "      <td>9564613.0</td>\n",
       "      <td>0.515207</td>\n",
       "    </tr>\n",
       "  </tbody>\n",
       "</table>\n",
       "</div>"
      ],
      "text/plain": [
       "       budget                                 company country        director  \\\n",
       "0   8000000.0           Columbia Pictures Corporation     USA      Rob Reiner   \n",
       "1   6000000.0                      Paramount Pictures     USA     John Hughes   \n",
       "2  15000000.0                      Paramount Pictures     USA      Tony Scott   \n",
       "3  18500000.0  Twentieth Century Fox Film Corporation     USA   James Cameron   \n",
       "4   9000000.0                    Walt Disney Pictures     USA  Randal Kleiser   \n",
       "\n",
       "       genre        gross                      name rating    released  \\\n",
       "0  Adventure   52287414.0               Stand by Me      R  1986-08-22   \n",
       "1     Comedy   70136369.0  Ferris Bueller's Day Off  PG-13  1986-06-11   \n",
       "2     Action  179800601.0                   Top Gun     PG  1986-05-16   \n",
       "3     Action   85160248.0                    Aliens      R  1986-07-18   \n",
       "4  Adventure   18564613.0   Flight of the Navigator     PG  1986-08-01   \n",
       "\n",
       "   runtime  score               star   votes         writer  year  \\\n",
       "0       89    8.1        Wil Wheaton  299174   Stephen King  1986   \n",
       "1      103    7.8  Matthew Broderick  264740    John Hughes  1986   \n",
       "2      110    6.9         Tom Cruise  236909       Jim Cash  1986   \n",
       "3      137    8.4   Sigourney Weaver  540152  James Cameron  1986   \n",
       "4       90    6.9        Joey Cramer   36636  Mark H. Baker  1986   \n",
       "\n",
       "        profit  gross_margin  \n",
       "0   44287414.0      0.847000  \n",
       "1   64136369.0      0.914452  \n",
       "2  164800601.0      0.916574  \n",
       "3   66660248.0      0.782762  \n",
       "4    9564613.0      0.515207  "
      ]
     },
     "execution_count": 125,
     "metadata": {},
     "output_type": "execute_result"
    }
   ],
   "source": [
    "kaggle_movies.head(5) \n",
    "# this dataset is fire"
   ]
  },
  {
   "cell_type": "code",
   "execution_count": 267,
   "metadata": {},
   "outputs": [],
   "source": [
    "kaggle_movies['profit'] = kaggle_movies['gross'] - kaggle_movies['budget']\n",
    "# kaggle_movie_prod['gross_margin'] = kaggle_movie_prod['profit']/kaggle_movie_prod['gross']"
   ]
  },
  {
   "cell_type": "code",
   "execution_count": 268,
   "metadata": {},
   "outputs": [
    {
     "data": {
      "text/plain": [
       "17588246.800000004"
      ]
     },
     "execution_count": 268,
     "metadata": {},
     "output_type": "execute_result"
    }
   ],
   "source": [
    "kaggle_movies.groupby(['company'])['profit'].mean().sort_values(ascending = False).quantile(.9)"
   ]
  },
  {
   "cell_type": "code",
   "execution_count": 269,
   "metadata": {},
   "outputs": [],
   "source": [
    "kag_company_vs_prof = kaggle_movies.groupby(['company'])['profit'].mean().sort_values(ascending = False).head(20)"
   ]
  },
  {
   "cell_type": "code",
   "execution_count": null,
   "metadata": {},
   "outputs": [],
   "source": []
  },
  {
   "cell_type": "code",
   "execution_count": 297,
   "metadata": {},
   "outputs": [
    {
     "data": {
      "image/png": "[encoded data removed]",
      "text/plain": [
       "<Figure size 1440x432 with 1 Axes>"
      ]
     },
     "metadata": {},
     "output_type": "display_data"
    }
   ],
   "source": [
    "plt.figure(figsize = (20,6))\n",
    "c1 = sns.barplot(x = kag_company_vs_prof.index, y = kag_company_vs_prof.values)\n",
    "c1.set_xticklabels(c1.get_xticklabels(), rotation = 70);\n",
    "# fig.patch.set_facecolor('white')\n",
    "# fig.patch.set_alpha(0.7)"
   ]
  },
  {
   "cell_type": "code",
   "execution_count": 270,
   "metadata": {},
   "outputs": [],
   "source": [
    "# Cleaning Ratings Column\n",
    "\n",
    "kaggle_movies['rating'] = kaggle_movies['rating'].map(lambda x: 'NOT RATED' if x == 'Not specified' else x)\n",
    "kaggle_movies['rating'] = kaggle_movies['rating'].map(lambda x: 'R' if x == 'NC-17' else x)\n",
    "\n",
    "for rating in ['B15', 'TV-MA', 'TV-PG', 'TV-14', 'B']:\n",
    "    kaggle_movies.drop(kaggle_movies[kaggle_movies['rating'] == rating].index, inplace = True)\n",
    "\n",
    "\n"
   ]
  },
  {
   "cell_type": "code",
   "execution_count": 298,
   "metadata": {},
   "outputs": [
    {
     "data": {
      "image/png": "[encoded data removed]",
      "text/plain": [
       "<Figure size 432x288 with 1 Axes>"
      ]
     },
     "metadata": {},
     "output_type": "display_data"
    }
   ],
   "source": [
    "\n",
    "rating_count_barplot = sns.barplot(kaggle_movies['rating'].value_counts().index, \n",
    "                                   kaggle_movies['rating'].value_counts().values, \n",
    "                                   palette = 'mako')\n",
    "# How to add to subplot?"
   ]
  },
  {
   "cell_type": "code",
   "execution_count": 178,
   "metadata": {},
   "outputs": [
    {
     "data": {
      "image/png": "[encoded data removed]",
      "text/plain": [
       "<Figure size 432x288 with 1 Axes>"
      ]
     },
     "metadata": {
      "needs_background": "light"
     },
     "output_type": "display_data"
    }
   ],
   "source": [
    "rating_vs_mean_profit_barplot = sns.barplot(kaggle_movies['rating'], \n",
    "                                            kaggle_movies['profit'],  \n",
    "                                            palette = 'mako', \n",
    "                                            order = ['R', 'PG-13', 'PG', 'NOT RATED','G','UNRATED'])\n",
    "\n",
    "# How to add to subplot?"
   ]
  },
  {
   "cell_type": "code",
   "execution_count": 156,
   "metadata": {},
   "outputs": [
    {
     "data": {
      "text/plain": [
       "<matplotlib.axes._subplots.AxesSubplot at 0x1a205a0c18>"
      ]
     },
     "execution_count": 156,
     "metadata": {},
     "output_type": "execute_result"
    },
    {
     "data": {
      "image/png": "[encoded data removed]",
      "text/plain": [
       "<Figure size 432x288 with 1 Axes>"
      ]
     },
     "metadata": {
      "needs_background": "light"
     },
     "output_type": "display_data"
    }
   ],
   "source": [
    "#y minimum for NOT RATED\n",
    "sns.barplot(kaggle_movies.groupby(['rating'])['profit'].mean().index, \n",
    "            kaggle_movies.groupby(['rating'])['profit'].mean().values, \n",
    "            palette = 'mako', \n",
    "            order = ['R', 'PG-13', 'PG', 'NOT RATED','G','UNRATED'])"
   ]
  },
  {
   "cell_type": "code",
   "execution_count": 193,
   "metadata": {},
   "outputs": [],
   "source": [
    "def genre_vs_profit_barplot(dataframe, genre, profit):\n",
    "    plt.title('Movie Genre vs Profit')\n",
    "    chart = sns.barplot(genre, \n",
    "                        profit, \n",
    "                        data = dataframe)\n",
    "    chart.set_xticklabels(chart.get_xticklabels(), rotation = 50)\n",
    "    chart.set(xlabel='Movie Genre', ylabel='Profit ($10M)');\n",
    "    return plt.show()"
   ]
  },
  {
   "cell_type": "code",
   "execution_count": 208,
   "metadata": {},
   "outputs": [
    {
     "data": {
      "image/png": "[encoded data removed]",
      "text/plain": [
       "<Figure size 432x288 with 1 Axes>"
      ]
     },
     "metadata": {},
     "output_type": "display_data"
    }
   ],
   "source": [
    "genre_vs_profit_barplot(kaggle_movies, 'genre', 'profit')"
   ]
  },
  {
   "cell_type": "code",
   "execution_count": 169,
   "metadata": {},
   "outputs": [
    {
     "data": {
      "image/png": "[encoded data removed]",
      "text/plain": [
       "<Figure size 1080x360 with 2 Axes>"
      ]
     },
     "metadata": {
      "needs_background": "light"
     },
     "output_type": "display_data"
    }
   ],
   "source": [
    "fig, axes = plt.subplots(1,2, figsize = (15,5))\n",
    "ax1 = axes[0]\n",
    "ax2 = axes[1]"
   ]
  },
  {
   "cell_type": "code",
   "execution_count": 286,
   "metadata": {},
   "outputs": [
    {
     "data": {
      "image/png": "[encoded data removed]",
      "text/plain": [
       "<Figure size 432x288 with 1 Axes>"
      ]
     },
     "metadata": {},
     "output_type": "display_data"
    }
   ],
   "source": [
    "three_var_scatter = sns.scatterplot(kaggle_movies['runtime'].sample(n = 1500), \n",
    "                                    kaggle_movies['profit'].sample(n = 1500), \n",
    "                                    hue = kaggle_movies['rating'])"
   ]
  },
  {
   "cell_type": "code",
   "execution_count": 315,
   "metadata": {},
   "outputs": [],
   "source": [
    "def create_kaggle_ratings_dfs_for_subplots(dataframe):\n",
    "    \"\"\"\n",
    "    \n",
    "    Takes kaggle_movies and returns six dfs, one for each rating.\n",
    "    \n",
    "    \"\"\"\n",
    "    ratings_list = ['R', 'PG-13', 'PG', 'NOT RATED','G','UNRATED']\n",
    "    dfs_list = []\n",
    "    \n",
    "    for rating in range(len(ratings_list)):\n",
    "        df = dataframe[dataframe['rating'] == ratings_list[rating]]\n",
    "        dfs_list.append(df)\n",
    "    \n",
    "    return dfs_list\n",
    " \n",
    "    \n",
    "    \n",
    "    \n",
    "def create_ratings_subplots_from_dfs_list(dfs_list):\n",
    "    \"\"\"\n",
    "    \n",
    "    Takes list of dataframes, one for each rating, and creates a subplot for each.\n",
    "    \n",
    "    \"\"\"\n",
    "    axes_tuple = (ax1, ax2, ax3, ax4, ax5, ax6)\n",
    "    fig, axes_tuple = plt.subplots(ncols=2, nrows = 3,figsize = (15, 8)) # sharey = True  \n",
    "    \n",
    "    for axes in axes_tuple:\n",
    "        \n",
    "    \n",
    "    \n",
    "    \n",
    "    \n",
    "    \n",
    "# sns.regplot(x=idx, y=df['x'], ax=ax1)\n",
    "# sns.regplot(x=idx, y=df['y'], ax=ax2)"
   ]
  },
  {
   "cell_type": "code",
   "execution_count": 319,
   "metadata": {},
   "outputs": [
    {
     "data": {
      "text/html": [
       "<div>\n",
       "<style scoped>\n",
       "    .dataframe tbody tr th:only-of-type {\n",
       "        vertical-align: middle;\n",
       "    }\n",
       "\n",
       "    .dataframe tbody tr th {\n",
       "        vertical-align: top;\n",
       "    }\n",
       "\n",
       "    .dataframe thead th {\n",
       "        text-align: right;\n",
       "    }\n",
       "</style>\n",
       "<table border=\"1\" class=\"dataframe\">\n",
       "  <thead>\n",
       "    <tr style=\"text-align: right;\">\n",
       "      <th></th>\n",
       "      <th>budget</th>\n",
       "      <th>company</th>\n",
       "      <th>country</th>\n",
       "      <th>director</th>\n",
       "      <th>genre</th>\n",
       "      <th>gross</th>\n",
       "      <th>name</th>\n",
       "      <th>rating</th>\n",
       "      <th>released</th>\n",
       "      <th>runtime</th>\n",
       "      <th>score</th>\n",
       "      <th>star</th>\n",
       "      <th>votes</th>\n",
       "      <th>writer</th>\n",
       "      <th>year</th>\n",
       "      <th>profit</th>\n",
       "    </tr>\n",
       "  </thead>\n",
       "  <tbody>\n",
       "    <tr>\n",
       "      <th>0</th>\n",
       "      <td>8000000.0</td>\n",
       "      <td>Columbia Pictures Corporation</td>\n",
       "      <td>USA</td>\n",
       "      <td>Rob Reiner</td>\n",
       "      <td>Adventure</td>\n",
       "      <td>52287414.0</td>\n",
       "      <td>Stand by Me</td>\n",
       "      <td>R</td>\n",
       "      <td>1986-08-22</td>\n",
       "      <td>89</td>\n",
       "      <td>8.1</td>\n",
       "      <td>Wil Wheaton</td>\n",
       "      <td>299174</td>\n",
       "      <td>Stephen King</td>\n",
       "      <td>1986</td>\n",
       "      <td>44287414.0</td>\n",
       "    </tr>\n",
       "  </tbody>\n",
       "</table>\n",
       "</div>"
      ],
      "text/plain": [
       "      budget                        company country    director      genre  \\\n",
       "0  8000000.0  Columbia Pictures Corporation     USA  Rob Reiner  Adventure   \n",
       "\n",
       "        gross         name rating    released  runtime  score         star  \\\n",
       "0  52287414.0  Stand by Me      R  1986-08-22       89    8.1  Wil Wheaton   \n",
       "\n",
       "    votes        writer  year      profit  \n",
       "0  299174  Stephen King  1986  44287414.0  "
      ]
     },
     "execution_count": 319,
     "metadata": {},
     "output_type": "execute_result"
    }
   ],
   "source": [
    "create_kaggle_ratings_dfs_for_subplots(kaggle_movies)[0].head(1)"
   ]
  },
  {
   "cell_type": "code",
   "execution_count": 318,
   "metadata": {},
   "outputs": [
    {
     "data": {
      "text/html": [
       "<div>\n",
       "<style scoped>\n",
       "    .dataframe tbody tr th:only-of-type {\n",
       "        vertical-align: middle;\n",
       "    }\n",
       "\n",
       "    .dataframe tbody tr th {\n",
       "        vertical-align: top;\n",
       "    }\n",
       "\n",
       "    .dataframe thead th {\n",
       "        text-align: right;\n",
       "    }\n",
       "</style>\n",
       "<table border=\"1\" class=\"dataframe\">\n",
       "  <thead>\n",
       "    <tr style=\"text-align: right;\">\n",
       "      <th></th>\n",
       "      <th>budget</th>\n",
       "      <th>company</th>\n",
       "      <th>country</th>\n",
       "      <th>director</th>\n",
       "      <th>genre</th>\n",
       "      <th>gross</th>\n",
       "      <th>name</th>\n",
       "      <th>rating</th>\n",
       "      <th>released</th>\n",
       "      <th>runtime</th>\n",
       "      <th>score</th>\n",
       "      <th>star</th>\n",
       "      <th>votes</th>\n",
       "      <th>writer</th>\n",
       "      <th>year</th>\n",
       "      <th>profit</th>\n",
       "    </tr>\n",
       "  </thead>\n",
       "  <tbody>\n",
       "    <tr>\n",
       "      <th>0</th>\n",
       "      <td>8000000.0</td>\n",
       "      <td>Columbia Pictures Corporation</td>\n",
       "      <td>USA</td>\n",
       "      <td>Rob Reiner</td>\n",
       "      <td>Adventure</td>\n",
       "      <td>52287414.0</td>\n",
       "      <td>Stand by Me</td>\n",
       "      <td>R</td>\n",
       "      <td>1986-08-22</td>\n",
       "      <td>89</td>\n",
       "      <td>8.1</td>\n",
       "      <td>Wil Wheaton</td>\n",
       "      <td>299174</td>\n",
       "      <td>Stephen King</td>\n",
       "      <td>1986</td>\n",
       "      <td>44287414.0</td>\n",
       "    </tr>\n",
       "  </tbody>\n",
       "</table>\n",
       "</div>"
      ],
      "text/plain": [
       "      budget                        company country    director      genre  \\\n",
       "0  8000000.0  Columbia Pictures Corporation     USA  Rob Reiner  Adventure   \n",
       "\n",
       "        gross         name rating    released  runtime  score         star  \\\n",
       "0  52287414.0  Stand by Me      R  1986-08-22       89    8.1  Wil Wheaton   \n",
       "\n",
       "    votes        writer  year      profit  \n",
       "0  299174  Stephen King  1986  44287414.0  "
      ]
     },
     "execution_count": 318,
     "metadata": {},
     "output_type": "execute_result"
    }
   ],
   "source": [
    "ratings_list = ['R', 'PG-13', 'PG', 'NOT RATED','G','UNRATED']\n",
    "\n",
    "kaggle_movies[kaggle_movies['rating'] == ratings_list[0]].head(1)"
   ]
  },
  {
   "cell_type": "code",
   "execution_count": null,
   "metadata": {},
   "outputs": [],
   "source": []
  }
 ],
 "metadata": {
  "kernelspec": {
   "display_name": "Python 3",
   "language": "python",
   "name": "python3"
  },
  "language_info": {
   "codemirror_mode": {
    "name": "ipython",
    "version": 3
   },
   "file_extension": ".py",
   "mimetype": "text/x-python",
   "name": "python",
   "nbconvert_exporter": "python",
   "pygments_lexer": "ipython3",
   "version": "3.6.9"
  }
 },
 "nbformat": 4,
 "nbformat_minor": 4
}
